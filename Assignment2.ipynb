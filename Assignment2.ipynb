{
  "nbformat": 4,
  "nbformat_minor": 0,
  "metadata": {
    "colab": {
      "name": "Assignment2.ipynb",
      "provenance": [],
      "collapsed_sections": []
    },
    "kernelspec": {
      "name": "python3",
      "display_name": "Python 3"
    },
    "language_info": {
      "name": "python"
    }
  },
  "cells": [
    {
      "cell_type": "markdown",
      "source": [
        "1.What are the two values of the boolean data types? how do you write them ?\n",
        "\n",
        "True and False"
      ],
      "metadata": {
        "id": "I4E_WwzRgUuc"
      }
    },
    {
      "cell_type": "code",
      "source": [
        "Bollean_True=True"
      ],
      "metadata": {
        "id": "xDbcdTW-gQt8"
      },
      "execution_count": 3,
      "outputs": []
    },
    {
      "cell_type": "code",
      "source": [
        "print(Bollean_True,type(Bollean_True))"
      ],
      "metadata": {
        "colab": {
          "base_uri": "https://localhost:8080/"
        },
        "id": "c6HSanMugnaF",
        "outputId": "d9e881a5-527a-4621-beab-0a5a5dfedbca"
      },
      "execution_count": 4,
      "outputs": [
        {
          "output_type": "stream",
          "name": "stdout",
          "text": [
            "True <class 'bool'>\n"
          ]
        }
      ]
    },
    {
      "cell_type": "code",
      "source": [
        "Bollean_False=False"
      ],
      "metadata": {
        "id": "DjFcq8IegyYL"
      },
      "execution_count": 5,
      "outputs": []
    },
    {
      "cell_type": "code",
      "source": [
        "print(Bollean_False,type(Bollean_False))"
      ],
      "metadata": {
        "colab": {
          "base_uri": "https://localhost:8080/"
        },
        "id": "fQTZfi1lg6Js",
        "outputId": "6db6ab5f-b087-413a-cbea-aee135c64f9c"
      },
      "execution_count": 8,
      "outputs": [
        {
          "output_type": "stream",
          "name": "stdout",
          "text": [
            "False <class 'bool'>\n"
          ]
        }
      ]
    },
    {
      "cell_type": "code",
      "source": [
        "#True\n",
        "print(5>4)\n",
        "print(type(5>4))"
      ],
      "metadata": {
        "colab": {
          "base_uri": "https://localhost:8080/"
        },
        "id": "fnpFrjn3hxKS",
        "outputId": "a8abeda3-881b-4138-fe34-586deaf78040"
      },
      "execution_count": 12,
      "outputs": [
        {
          "output_type": "stream",
          "name": "stdout",
          "text": [
            "True\n",
            "<class 'bool'>\n"
          ]
        }
      ]
    },
    {
      "cell_type": "code",
      "source": [
        "#False\n",
        "print(4>5)\n",
        "print(type(4>5))"
      ],
      "metadata": {
        "colab": {
          "base_uri": "https://localhost:8080/"
        },
        "id": "zUtPrH-4iD_o",
        "outputId": "c25fbdc3-112d-4dc3-fa64-4ec53b56c487"
      },
      "execution_count": 14,
      "outputs": [
        {
          "output_type": "stream",
          "name": "stdout",
          "text": [
            "False\n",
            "<class 'bool'>\n"
          ]
        }
      ]
    },
    {
      "cell_type": "markdown",
      "source": [
        "2. What are the three different types of Boolean operators?\n",
        "\n",
        "   Boolean Operators are----> and, or, not"
      ],
      "metadata": {
        "id": "oW9njIb6hLEo"
      }
    },
    {
      "cell_type": "code",
      "source": [
        "#AND\n",
        "print((5>4) and (5<4))  # in and operator result is dependent on both condition"
      ],
      "metadata": {
        "colab": {
          "base_uri": "https://localhost:8080/"
        },
        "id": "oTzwRV88hbrz",
        "outputId": "58050fe4-106a-4aa2-d392-103c7b7635e6"
      },
      "execution_count": 16,
      "outputs": [
        {
          "output_type": "stream",
          "name": "stdout",
          "text": [
            "False\n"
          ]
        }
      ]
    },
    {
      "cell_type": "code",
      "source": [
        "print((5>4) or (4>5))  # in or operator result is dependent on one condition"
      ],
      "metadata": {
        "colab": {
          "base_uri": "https://localhost:8080/"
        },
        "id": "s-rLiRNXhsH3",
        "outputId": "e781520f-f62b-4998-9f64-f971424e3b58"
      },
      "execution_count": 17,
      "outputs": [
        {
          "output_type": "stream",
          "name": "stdout",
          "text": [
            "True\n"
          ]
        }
      ]
    },
    {
      "cell_type": "code",
      "source": [
        "print(not(5>4))  # not operator reverse the result not(True)---->False"
      ],
      "metadata": {
        "colab": {
          "base_uri": "https://localhost:8080/"
        },
        "id": "_dQcC53Hi5uw",
        "outputId": "6fa16baf-1f2c-4370-d806-4e66e20d38b1"
      },
      "execution_count": 18,
      "outputs": [
        {
          "output_type": "stream",
          "name": "stdout",
          "text": [
            "False\n"
          ]
        }
      ]
    },
    {
      "cell_type": "markdown",
      "source": [
        "3. Make a list of each Boolean operator's truth tables (i.e. every possible combination of Boolean values for the operator and what it evaluate)"
      ],
      "metadata": {
        "id": "hHr68VZLj3Dr"
      }
    },
    {
      "cell_type": "markdown",
      "source": [
        "Truth Table for and operator\n",
        "\n",
        "  True and True --> True\n",
        "\n",
        "  True and False --> False\n",
        "\n",
        "  alse and True --> False\n",
        "\n",
        "  False and False --> False"
      ],
      "metadata": {
        "id": "1Ex8MVmAj_47"
      }
    },
    {
      "cell_type": "markdown",
      "source": [
        "Truth Table for or operator\n",
        "\n",
        "True or True --> True\n",
        "\n",
        "True or False --> True\n",
        "\n",
        "False or True --> True\n",
        "\n",
        "False or False --> False"
      ],
      "metadata": {
        "id": "JhiVF4dAkrXA"
      }
    },
    {
      "cell_type": "markdown",
      "source": [
        "Truth Table for not operator\n",
        "\n",
        "True not --> False\n",
        "\n",
        " False not --> True"
      ],
      "metadata": {
        "id": "nviZzKYsk5ps"
      }
    },
    {
      "cell_type": "markdown",
      "source": [
        "4. What are the values of the following expressions ?\n",
        "\n",
        "(5 > 4) and (3 == 5)\n",
        "\n",
        "not (5 > 4)\n",
        "\n",
        "(5 > 4) or (3 == 5)\n",
        "\n",
        "not ((5 > 4) or (3 == 5))\n",
        "\n",
        "(True and True) and (True == False)\n",
        "\n",
        "(not False) or (not True)"
      ],
      "metadata": {
        "id": "7619RqGhlOxn"
      }
    },
    {
      "cell_type": "code",
      "source": [
        "print((5 > 4) and (3 == 5))"
      ],
      "metadata": {
        "colab": {
          "base_uri": "https://localhost:8080/"
        },
        "id": "Rq3AS4NFkFtR",
        "outputId": "6cbfb5c0-aa36-4463-9f04-2771e9016ae7"
      },
      "execution_count": 20,
      "outputs": [
        {
          "output_type": "stream",
          "name": "stdout",
          "text": [
            "False\n"
          ]
        }
      ]
    },
    {
      "cell_type": "code",
      "source": [
        "print((not (5 > 4)))"
      ],
      "metadata": {
        "colab": {
          "base_uri": "https://localhost:8080/"
        },
        "id": "XOeyOsmNlc2_",
        "outputId": "97edeec1-3794-466c-f6c5-075cf775a961"
      },
      "execution_count": 21,
      "outputs": [
        {
          "output_type": "stream",
          "name": "stdout",
          "text": [
            "False\n"
          ]
        }
      ]
    },
    {
      "cell_type": "code",
      "source": [
        "print(((5 > 4) or (3 == 5)))"
      ],
      "metadata": {
        "colab": {
          "base_uri": "https://localhost:8080/"
        },
        "id": "-Fi6L31nljHn",
        "outputId": "4e73024b-9d27-46eb-df63-5c0a2889f370"
      },
      "execution_count": 22,
      "outputs": [
        {
          "output_type": "stream",
          "name": "stdout",
          "text": [
            "True\n"
          ]
        }
      ]
    },
    {
      "cell_type": "code",
      "source": [
        "print((not ((5 > 4) or (3 == 5))))"
      ],
      "metadata": {
        "colab": {
          "base_uri": "https://localhost:8080/"
        },
        "id": "SFOZC22YlovX",
        "outputId": "f0c2adc5-3432-494e-ffb6-fa8e142291f3"
      },
      "execution_count": 23,
      "outputs": [
        {
          "output_type": "stream",
          "name": "stdout",
          "text": [
            "False\n"
          ]
        }
      ]
    },
    {
      "cell_type": "code",
      "source": [
        "print(((True and True) and (True == False)))"
      ],
      "metadata": {
        "colab": {
          "base_uri": "https://localhost:8080/"
        },
        "id": "Ru6Zx98jltJN",
        "outputId": "7d981b0a-26b5-4617-a6b7-1cd4f042bea1"
      },
      "execution_count": 24,
      "outputs": [
        {
          "output_type": "stream",
          "name": "stdout",
          "text": [
            "False\n"
          ]
        }
      ]
    },
    {
      "cell_type": "code",
      "source": [
        "print(((not False) or (not True)))"
      ],
      "metadata": {
        "colab": {
          "base_uri": "https://localhost:8080/"
        },
        "id": "5rVT00Mwlwfy",
        "outputId": "39f93c69-296f-4dba-c745-f316fad28836"
      },
      "execution_count": 25,
      "outputs": [
        {
          "output_type": "stream",
          "name": "stdout",
          "text": [
            "True\n"
          ]
        }
      ]
    },
    {
      "cell_type": "markdown",
      "source": [
        "5. What are the six comparison operators?\n",
        "\n",
        "Less than ( < )\n",
        "\n",
        "Less than or equal to ( <= )\n",
        "\n",
        "Greater than ( > )\n",
        "\n",
        "Greater than or equal to ( >= )\n",
        "\n",
        "Equal to ( == )\n",
        "\n",
        "Not equal to ( != )"
      ],
      "metadata": {
        "id": "NLdVXriQnBGS"
      }
    },
    {
      "cell_type": "markdown",
      "source": [
        "6. How do you tell the difference between the equal to and assignment operators? Describe a condition and when you would use one?\n",
        "\n",
        "== equal operator that compares two values and evaluates to a Boolean, while = assignment operator that store a value in  variable."
      ],
      "metadata": {
        "id": "dyafTFTnn2hD"
      }
    },
    {
      "cell_type": "code",
      "source": [
        "# Assignment\n",
        "VAriable=9 # 9 is store in VAriable\n",
        "print(VAriable)"
      ],
      "metadata": {
        "colab": {
          "base_uri": "https://localhost:8080/"
        },
        "id": "bIB7pZzglzex",
        "outputId": "bf7268e2-450d-4001-855a-c5393671a5bb"
      },
      "execution_count": 26,
      "outputs": [
        {
          "output_type": "stream",
          "name": "stdout",
          "text": [
            "9\n"
          ]
        }
      ]
    },
    {
      "cell_type": "code",
      "source": [
        "# equal operator\n",
        "print(VAriable==3) # COMPARES the value"
      ],
      "metadata": {
        "colab": {
          "base_uri": "https://localhost:8080/"
        },
        "id": "Bx0alE3YoZU2",
        "outputId": "ffbf0601-b4c9-474f-bf98-0fd113ac10fd"
      },
      "execution_count": 28,
      "outputs": [
        {
          "output_type": "stream",
          "name": "stdout",
          "text": [
            "False\n"
          ]
        }
      ]
    },
    {
      "cell_type": "markdown",
      "source": [
        "7. Identify the three blocks in this code"
      ],
      "metadata": {
        "id": "3eCp5Y4FoyAN"
      }
    },
    {
      "cell_type": "code",
      "source": [
        "spam = 0  \n",
        "if spam == 10:   # this condition is false becuase spam is 0\n",
        "    print('eggs')  # not execute\n",
        "if spam > 5:    # this condition is false becuase spam is 0\n",
        "    print('bacon')  #not execute\n",
        "else:  \n",
        "    print('ham')  # else part is execute\n",
        "print('spam')   #execute because is indepent from condition\n",
        "print('spam')   #execute because is indepent from condition"
      ],
      "metadata": {
        "colab": {
          "base_uri": "https://localhost:8080/"
        },
        "id": "A3Q5a1cBoqVx",
        "outputId": "79da79b5-e101-41d7-8f96-55dd43fee420"
      },
      "execution_count": 29,
      "outputs": [
        {
          "output_type": "stream",
          "name": "stdout",
          "text": [
            "ham\n",
            "spam\n",
            "spam\n"
          ]
        }
      ]
    },
    {
      "cell_type": "markdown",
      "source": [
        "8. Write code that prints Hello if 1 is stored in spam, prints Howdy if 2 is stored in spam, and prints Greetings! if anything else is stored in spam."
      ],
      "metadata": {
        "id": "ysgUt_DLuRtp"
      }
    },
    {
      "cell_type": "code",
      "source": [
        "def code(spam):\n",
        "    if spam==1:\n",
        "        print('Hello')\n",
        "    elif spam==2:\n",
        "        print('Howdy')\n",
        "    else:\n",
        "        print('Greetings')\n",
        "        \n",
        "code(1) \n",
        "code(2)\n",
        "code(3)"
      ],
      "metadata": {
        "colab": {
          "base_uri": "https://localhost:8080/"
        },
        "id": "3zyrufQhpjbN",
        "outputId": "2ac2c6f2-e39f-420d-f289-6dd29830e98f"
      },
      "execution_count": 31,
      "outputs": [
        {
          "output_type": "stream",
          "name": "stdout",
          "text": [
            "Hello\n",
            "Howdy\n",
            "Greetings\n"
          ]
        }
      ]
    },
    {
      "cell_type": "markdown",
      "source": [
        "9.If your programme is stuck in an endless loop, what keys you’ll press?9.If your programme is stuck in an endless loop, what keys you’ll press?\n",
        "\n",
        "\n",
        "  Ctrl-c"
      ],
      "metadata": {
        "id": "7iaRYh96uwFp"
      }
    },
    {
      "cell_type": "markdown",
      "source": [
        "10. How can you tell the difference between break and continue?\n",
        "\n",
        "Break---- is used to terminate the loop when our condition is meet. Resumes execution at the next statement\n",
        "\n",
        "\n",
        "continue-----> is used to ignore that specific iteration which is mention in our program."
      ],
      "metadata": {
        "id": "cyrzvcbeu8Cx"
      }
    },
    {
      "cell_type": "code",
      "source": [
        "#break condition\n",
        "\n",
        "for i in range(1,10):\n",
        "  if i==5:  # when i value is 5 than break is executed and terminate the loop\n",
        "    break\n",
        "  print(i)"
      ],
      "metadata": {
        "colab": {
          "base_uri": "https://localhost:8080/"
        },
        "id": "wocLzfMKubqs",
        "outputId": "ee113cbc-34ef-45bc-f3b4-0e8454c3378a"
      },
      "execution_count": 33,
      "outputs": [
        {
          "output_type": "stream",
          "name": "stdout",
          "text": [
            "1\n",
            "2\n",
            "3\n",
            "4\n"
          ]
        }
      ]
    },
    {
      "cell_type": "code",
      "source": [
        "#continue condition\n",
        "\n",
        "for i in range(1,10):\n",
        "  if i<5:  # when i value is 5 than break is executed and terminate the loop\n",
        "    continue # when i is less than 5 the we skip the iteration\n",
        "  print(i)"
      ],
      "metadata": {
        "colab": {
          "base_uri": "https://localhost:8080/"
        },
        "id": "wYAg573TxGkh",
        "outputId": "8e6ae4e4-d136-4460-c59f-cf923658c7e4"
      },
      "execution_count": 36,
      "outputs": [
        {
          "output_type": "stream",
          "name": "stdout",
          "text": [
            "5\n",
            "6\n",
            "7\n",
            "8\n",
            "9\n"
          ]
        }
      ]
    },
    {
      "cell_type": "markdown",
      "source": [
        "11. In a for loop, what is the difference between range(10), range(0, 10), and range(0, 10, 1)\n",
        "\n",
        "\n",
        "range(10)------> range(stop) \n",
        "\n",
        "range(0, 10)----->range(start,stop)\n",
        "\n",
        "range(0, 10, 1)------>range(start,stop,step)\n",
        "\n"
      ],
      "metadata": {
        "id": "sYkBU9lrxwGv"
      }
    },
    {
      "cell_type": "code",
      "source": [
        "# range(10)------> range(stop)\n",
        "print(range(10))   # value start from 0 to 9\n",
        "for i in range(10):\n",
        "  print(i,end=\" \")"
      ],
      "metadata": {
        "colab": {
          "base_uri": "https://localhost:8080/"
        },
        "id": "QTLbcrDdxd7s",
        "outputId": "916a4a1c-a8d8-4038-b1ca-88c5442c840b"
      },
      "execution_count": 40,
      "outputs": [
        {
          "output_type": "stream",
          "name": "stdout",
          "text": [
            "range(0, 10)\n",
            "0 1 2 3 4 5 6 7 8 9 "
          ]
        }
      ]
    },
    {
      "cell_type": "code",
      "source": [
        "#range(1, 10)----->range(start,stop)\n",
        "print(range(1,10))   # value start from 1 to 9\n",
        "for i in range(1,10):\n",
        "  print(i,end=\" \")\n"
      ],
      "metadata": {
        "colab": {
          "base_uri": "https://localhost:8080/"
        },
        "id": "rJWqIOSHx6Vt",
        "outputId": "9a89ab50-4f8b-4cae-98f9-6e282db62856"
      },
      "execution_count": 43,
      "outputs": [
        {
          "output_type": "stream",
          "name": "stdout",
          "text": [
            "range(1, 10)\n",
            "1 2 3 4 5 6 7 8 9 "
          ]
        }
      ]
    },
    {
      "cell_type": "code",
      "source": [
        "#range(0, 10, 2)------>range(start,stop,step)\n",
        "print(range(0,10,2))   # value start from 0 to 9 evey 2nd element is print until 9\n",
        "for i in range(0,10,2):\n",
        "  print(i,end=\" \")"
      ],
      "metadata": {
        "colab": {
          "base_uri": "https://localhost:8080/"
        },
        "id": "2Hc0fQbFzbiD",
        "outputId": "f1d208b2-eac5-467d-a1bd-54d833eb4d6a"
      },
      "execution_count": 45,
      "outputs": [
        {
          "output_type": "stream",
          "name": "stdout",
          "text": [
            "range(0, 10, 2)\n",
            "0 2 4 6 8 "
          ]
        }
      ]
    },
    {
      "cell_type": "markdown",
      "source": [
        "12. Write a short program that prints the numbers 1 to 10 using a for loop. Then write an equivalent program that prints the numbers 1 to 10 using a while loop ?"
      ],
      "metadata": {
        "id": "p2I0uCwR0aUZ"
      }
    },
    {
      "cell_type": "code",
      "source": [
        "# using for loop\n",
        "\n",
        "for i in range(1,11):\n",
        "    print(i, end=\" \")"
      ],
      "metadata": {
        "colab": {
          "base_uri": "https://localhost:8080/"
        },
        "id": "6DS9Nx4RzuBj",
        "outputId": "3cc25287-4152-42f6-cf36-2825c4b36b87"
      },
      "execution_count": 46,
      "outputs": [
        {
          "output_type": "stream",
          "name": "stdout",
          "text": [
            "1 2 3 4 5 6 7 8 9 10 "
          ]
        }
      ]
    },
    {
      "cell_type": "code",
      "source": [
        "# using while loop\n",
        "i=1\n",
        "while i<=10:\n",
        "    print(i, end=\" \")\n",
        "    i+=1"
      ],
      "metadata": {
        "colab": {
          "base_uri": "https://localhost:8080/"
        },
        "id": "nLwTsj_C0k_G",
        "outputId": "517f5486-ce70-462b-e23c-df9a163c517a"
      },
      "execution_count": 47,
      "outputs": [
        {
          "output_type": "stream",
          "name": "stdout",
          "text": [
            "1 2 3 4 5 6 7 8 9 10 "
          ]
        }
      ]
    },
    {
      "cell_type": "markdown",
      "source": [
        "13. If you had a function named bacon() inside a module named spam, how would you call it after importing spam ?\n",
        "\n",
        "\n",
        "  spam.bacon()"
      ],
      "metadata": {
        "id": "QrvYY72B007C"
      }
    },
    {
      "cell_type": "code",
      "source": [
        ""
      ],
      "metadata": {
        "id": "7l0Mi0VF0s_a"
      },
      "execution_count": null,
      "outputs": []
    }
  ]
}