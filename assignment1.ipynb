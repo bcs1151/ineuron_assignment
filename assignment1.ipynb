{
  "nbformat": 4,
  "nbformat_minor": 0,
  "metadata": {
    "colab": {
      "name": "assignment1.ipynb",
      "provenance": []
    },
    "kernelspec": {
      "name": "python3",
      "display_name": "Python 3"
    },
    "language_info": {
      "name": "python"
    }
  },
  "cells": [
    {
      "cell_type": "code",
      "execution_count": null,
      "metadata": {
        "id": "ikZuds5uRLfe"
      },
      "outputs": [],
      "source": [
        "'''\n",
        "1. In the below elements which of them are values or an expression? eg:- values can be\n",
        "integer or string and expressions will be mathematical operators. \n",
        "\n",
        "*\n",
        "\"hello\"\n",
        "-87.8\n",
        "-\n",
        "/\n",
        "+\n",
        "6\n",
        "\n",
        "'''\n",
        "\n",
        "\n"
      ]
    },
    {
      "cell_type": "code",
      "source": [
        "# * ------> Mathematical operator (Multiplication)\n",
        "\n",
        "# 'hello'-----> string\n",
        "\n",
        "# -87.8 ------> float\n",
        "\n",
        "# -  Mathematical operator (Subtraction)\n",
        "\n",
        "# /  ------> Mathematical operator (Division)\n",
        "\n",
        "# +  -------> Mathematical operator (addition)\n",
        "\n",
        "# 6  -------> integer\n"
      ],
      "metadata": {
        "id": "eHuYIXR3b72u"
      },
      "execution_count": 4,
      "outputs": []
    },
    {
      "cell_type": "code",
      "source": [
        "print(type(-87.8))"
      ],
      "metadata": {
        "colab": {
          "base_uri": "https://localhost:8080/"
        },
        "id": "tUr_qdEjcrVB",
        "outputId": "f3767099-d96a-41c5-f077-62f65e0b685b"
      },
      "execution_count": 3,
      "outputs": [
        {
          "output_type": "stream",
          "name": "stdout",
          "text": [
            "<class 'float'>\n"
          ]
        }
      ]
    },
    {
      "cell_type": "code",
      "source": [
        "'''\n",
        "\n",
        "2. What is the difference between string and variable?\n",
        "\n",
        "\n",
        "'''"
      ],
      "metadata": {
        "id": "Xw_XNhy4cvgF"
      },
      "execution_count": null,
      "outputs": []
    },
    {
      "cell_type": "code",
      "source": [
        "# variable --------> it is a container used for future use.\n",
        "\n",
        "vaRiAble=5\n",
        "\n",
        "# variable name -----> vaRiAble\n",
        "\n",
        "print(id(vaRiAble))"
      ],
      "metadata": {
        "colab": {
          "base_uri": "https://localhost:8080/"
        },
        "id": "EvlprC8HeX7X",
        "outputId": "50beed8c-918c-4667-e69a-d8d8f4e165b6"
      },
      "execution_count": 6,
      "outputs": [
        {
          "output_type": "stream",
          "name": "stdout",
          "text": [
            "11256192\n"
          ]
        }
      ]
    },
    {
      "cell_type": "code",
      "source": [
        "# string -------> it is literals and it is a group of character written in quotation marks ' ',\" \",''' '''\n",
        "\n",
        "vaRiAble=\"StRing\"\n",
        "print(vaRiAble)\n",
        "print(type(vaRiAble))\n",
        "print(id(vaRiAble))"
      ],
      "metadata": {
        "colab": {
          "base_uri": "https://localhost:8080/"
        },
        "id": "2ykad9Gdfe2L",
        "outputId": "bd500d87-219a-4057-d0cb-041e3c6fa190"
      },
      "execution_count": 7,
      "outputs": [
        {
          "output_type": "stream",
          "name": "stdout",
          "text": [
            "StRing\n",
            "<class 'str'>\n",
            "139840534133872\n"
          ]
        }
      ]
    },
    {
      "cell_type": "code",
      "source": [
        "# StRing   --------->string literal\n",
        "# <class 'str'>   --------variable type is string \n",
        "# 139840534133872   ------->memory location pointed by variable"
      ],
      "metadata": {
        "id": "aIl0gKprqZg2"
      },
      "execution_count": 8,
      "outputs": []
    },
    {
      "cell_type": "code",
      "source": [
        "''' \n",
        "3. Describe three different data types.\n",
        "\n",
        "'''"
      ],
      "metadata": {
        "id": "hMQgh-Enq6vp"
      },
      "execution_count": null,
      "outputs": []
    },
    {
      "cell_type": "code",
      "source": [
        "from IPython.core.display import Javascript\n",
        "# data type of Python\n",
        "\n",
        "# 1)Numeric type ---- this hold number data type further it is classified in (integer,float,Complex Numbers)\n",
        "\n",
        "InTeGeR=65    # integer\n",
        "FlOaT=65.9    #float\n",
        "CoMpLeX=3+2j   # complex\n",
        "\n",
        "print(type(InTeGeR))\n",
        "print(type(FlOaT))\n",
        "print(type(CoMpLeX))\n",
        "\n",
        "\n",
        "\n"
      ],
      "metadata": {
        "colab": {
          "base_uri": "https://localhost:8080/"
        },
        "id": "1ExxcpArrHy3",
        "outputId": "e8a4abe3-7fca-46e5-8f57-263761493912"
      },
      "execution_count": 2,
      "outputs": [
        {
          "output_type": "stream",
          "name": "stdout",
          "text": [
            "<class 'int'>\n",
            "<class 'float'>\n",
            "<class 'complex'>\n"
          ]
        }
      ]
    },
    {
      "cell_type": "code",
      "source": [
        "# 2) Sequence Type ------->collection of similar or different data types and Sequences allows to store multiple values in an organized and efficient fashion\n",
        "\n",
        "# String ---->collection of one or more characters put in a single quote, double-quote or triple quote.\n",
        "\n",
        "StRiNg='string data type'\n",
        "print(type(StRiNg))\n",
        "# List  ------->ordered collection of data and in a list do not need to be of the same type.\n",
        "\n",
        "LiSt=[\"list\",9]   # list is mutable\n",
        "print(type(LiSt))\n",
        "\n",
        "\n",
        "# Tuple ------->it is same like list only diffrence is it is immutable in nature\n",
        "\n",
        "TuPlE=('TUPLE',9)\n",
        "print(type(TuPlE))"
      ],
      "metadata": {
        "colab": {
          "base_uri": "https://localhost:8080/"
        },
        "id": "lifRylOckzjI",
        "outputId": "f015c074-f24a-4f63-cd10-48402efaabda"
      },
      "execution_count": 3,
      "outputs": [
        {
          "output_type": "stream",
          "name": "stdout",
          "text": [
            "<class 'str'>\n",
            "<class 'list'>\n",
            "<class 'tuple'>\n"
          ]
        }
      ]
    },
    {
      "cell_type": "code",
      "source": [
        "# 3)Dictionary-------->unordered collection of data values and Dictionary holds key:value pair.\n",
        "\n",
        "DiCtionary={'ineuron':'data science','student':'vikas'}\n",
        "print(type(DiCtionary))"
      ],
      "metadata": {
        "colab": {
          "base_uri": "https://localhost:8080/"
        },
        "id": "OUY-vgZboP2g",
        "outputId": "10f98812-272b-4f74-a59d-4b6282d79371"
      },
      "execution_count": 1,
      "outputs": [
        {
          "output_type": "stream",
          "name": "stdout",
          "text": [
            "<class 'dict'>\n"
          ]
        }
      ]
    },
    {
      "cell_type": "code",
      "source": [
        "'''\n",
        "4. What is an expression made up of? What do all expressions do?\n",
        "\n",
        "'''"
      ],
      "metadata": {
        "id": "uxfDb0utECpK"
      },
      "execution_count": null,
      "outputs": []
    },
    {
      "cell_type": "code",
      "source": [
        "# expression ------->legal combination of operators and operands and produce some other value"
      ],
      "metadata": {
        "id": "rEkgM2UsEe70"
      },
      "execution_count": 3,
      "outputs": []
    },
    {
      "cell_type": "code",
      "source": [
        "''' \n",
        "5. This assignment statements, like spam = 10. What is the difference between an\n",
        "expression and a statement?\n",
        "\n",
        "'''"
      ],
      "metadata": {
        "id": "gKeIyjh_FSly"
      },
      "execution_count": null,
      "outputs": []
    },
    {
      "cell_type": "code",
      "source": [
        "# expression -----> legal combination of operators and operands and produce some other value.  example---> 3+5\n",
        "# expression------>a expression to be executed that returns a value (even if it returns a void ).\n",
        "\n",
        "# statement ----> a programming statement that does something means some action takes place.  example--->print(\"vikas\")\n",
        "# statement -----> used to form the sequence of a program and statement can be simple or complex and can contain 0 or more expression."
      ],
      "metadata": {
        "id": "-8I3vnwfFW5Z"
      },
      "execution_count": 5,
      "outputs": []
    },
    {
      "cell_type": "code",
      "source": [
        "'''\n",
        "6. After running the following code, what does the variable bacon contain?\n",
        "bacon = 22\n",
        "bacon + 1\n",
        "\n",
        "'''"
      ],
      "metadata": {
        "id": "6AAqn2klHXXF"
      },
      "execution_count": null,
      "outputs": []
    },
    {
      "cell_type": "code",
      "source": [
        "bacon = 22\n",
        "bacon + 1\n",
        "print(bacon)"
      ],
      "metadata": {
        "colab": {
          "base_uri": "https://localhost:8080/"
        },
        "id": "59QI65cbHnAz",
        "outputId": "8b85d490-9a92-44d9-fdd8-bff8440065ee"
      },
      "execution_count": 7,
      "outputs": [
        {
          "output_type": "stream",
          "name": "stdout",
          "text": [
            "22\n"
          ]
        }
      ]
    },
    {
      "cell_type": "code",
      "source": [
        "'''\n",
        "7. What should the values of the following two terms be?\n",
        "\n",
        "'spam'+'spamspam'\n",
        "\n",
        "'spam'*3\n",
        "\n",
        "'''"
      ],
      "metadata": {
        "id": "NAQ9Cn4UHuMD"
      },
      "execution_count": null,
      "outputs": []
    },
    {
      "cell_type": "code",
      "source": [
        "print('spam'+'spamspam')"
      ],
      "metadata": {
        "colab": {
          "base_uri": "https://localhost:8080/"
        },
        "id": "2FCLlsNbRDQB",
        "outputId": "aae2ab10-773a-464e-a27d-59e3a56e906d"
      },
      "execution_count": 9,
      "outputs": [
        {
          "output_type": "stream",
          "name": "stdout",
          "text": [
            "spamspamspam\n"
          ]
        }
      ]
    },
    {
      "cell_type": "code",
      "source": [
        "print('spam'*3)"
      ],
      "metadata": {
        "colab": {
          "base_uri": "https://localhost:8080/"
        },
        "id": "oVwZQx-ZRIKc",
        "outputId": "f164359d-94dd-4d90-8845-4b698134d062"
      },
      "execution_count": 10,
      "outputs": [
        {
          "output_type": "stream",
          "name": "stdout",
          "text": [
            "spamspamspam\n"
          ]
        }
      ]
    },
    {
      "cell_type": "code",
      "source": [
        "'''\n",
        "8. Why is eggs a valid variable name while 100 is invalid?\n",
        "\n",
        "'''"
      ],
      "metadata": {
        "id": "-plh44ySRO1i"
      },
      "execution_count": null,
      "outputs": []
    },
    {
      "cell_type": "code",
      "source": [
        "# A variable name must start with a letter or the underscore character\n",
        "# A variable name cannot start with a number\n",
        "# A variable name can only contain alpha-numeric characters and underscores (A-z, 0-9, and _ )\n",
        "# Variable names are case-sensitive (age, Age and AGE are three different variables)\n",
        "\n",
        "\n",
        "\n",
        "# so 100 (variable name cannot start with a number) is invalid variable name and eggs (variable name must start with a letter or the underscore character) is a valid variable name"
      ],
      "metadata": {
        "id": "HAyuHPdDRaUx"
      },
      "execution_count": 12,
      "outputs": []
    },
    {
      "cell_type": "code",
      "source": [
        "'''\n",
        "9. What three functions can be used to get the integer, floating-point number, or string\n",
        "version of a value?\n",
        "\n",
        "'''"
      ],
      "metadata": {
        "id": "LZCXCrbzR7cA"
      },
      "execution_count": null,
      "outputs": []
    },
    {
      "cell_type": "code",
      "source": [
        "# integer\n",
        "int_variable='5'\n",
        "print(type(int_variable))"
      ],
      "metadata": {
        "colab": {
          "base_uri": "https://localhost:8080/"
        },
        "id": "WnQEnOjNSGs1",
        "outputId": "0bd29a9a-cdaa-4bb8-b457-ca1313f540d9"
      },
      "execution_count": 14,
      "outputs": [
        {
          "output_type": "stream",
          "name": "stdout",
          "text": [
            "<class 'str'>\n"
          ]
        }
      ]
    },
    {
      "cell_type": "code",
      "source": [
        "# by using int() function we can convert any legal or convertable class to int class\n",
        "# convert any legal or convertable class---> we can not convert any alphabate into int class\n",
        "\n",
        "int_variable=int('5')   # use of int() function\n",
        "print(type(int_variable))"
      ],
      "metadata": {
        "colab": {
          "base_uri": "https://localhost:8080/"
        },
        "id": "Gi_-_TVeSu_c",
        "outputId": "6b5d78d3-097a-423e-d5e5-a1b51683dfaa"
      },
      "execution_count": 15,
      "outputs": [
        {
          "output_type": "stream",
          "name": "stdout",
          "text": [
            "<class 'int'>\n"
          ]
        }
      ]
    },
    {
      "cell_type": "code",
      "source": [
        "# string\n",
        "str_variable=59\n",
        "print(type(str_variable))"
      ],
      "metadata": {
        "colab": {
          "base_uri": "https://localhost:8080/"
        },
        "id": "PaHZBmKwTQYX",
        "outputId": "bd2ad218-bcf5-4c6f-fdc4-2c64a5f6f2b3"
      },
      "execution_count": 16,
      "outputs": [
        {
          "output_type": "stream",
          "name": "stdout",
          "text": [
            "<class 'int'>\n"
          ]
        }
      ]
    },
    {
      "cell_type": "code",
      "source": [
        "# by using str() function we can convert any legal or convertable class to string class\n",
        "\n",
        "str_variable=str(59)\n",
        "print(type(str_variable))"
      ],
      "metadata": {
        "colab": {
          "base_uri": "https://localhost:8080/"
        },
        "id": "_Bv5pr1iTkfg",
        "outputId": "980f2047-b02f-4534-b221-ea9514a53950"
      },
      "execution_count": 17,
      "outputs": [
        {
          "output_type": "stream",
          "name": "stdout",
          "text": [
            "<class 'str'>\n"
          ]
        }
      ]
    },
    {
      "cell_type": "code",
      "source": [
        "# float() ----->convert any legal or convertable class  to float class\n",
        "float_variable=59\n",
        "print(type(float_variable))"
      ],
      "metadata": {
        "colab": {
          "base_uri": "https://localhost:8080/"
        },
        "id": "hEgC1r_4UFR8",
        "outputId": "028fa70e-1d74-4267-b089-576ccc613757"
      },
      "execution_count": 18,
      "outputs": [
        {
          "output_type": "stream",
          "name": "stdout",
          "text": [
            "<class 'int'>\n"
          ]
        }
      ]
    },
    {
      "cell_type": "code",
      "source": [
        "# by using float() function we can convert any legal or convertable class to float class\n",
        "float_variable=float(59)\n",
        "print(float_variable)\n",
        "print(type(float_variable))"
      ],
      "metadata": {
        "colab": {
          "base_uri": "https://localhost:8080/"
        },
        "id": "etSUaMd8iEyX",
        "outputId": "d1d3a1ec-af2e-4d15-fa75-a48e06559248"
      },
      "execution_count": 20,
      "outputs": [
        {
          "output_type": "stream",
          "name": "stdout",
          "text": [
            "59.0\n",
            "<class 'float'>\n"
          ]
        }
      ]
    },
    {
      "cell_type": "code",
      "source": [
        "'''\n",
        "10. Why does this expression cause an error? How can you fix it?\n",
        "'I have eaten' +99+ 'burritos'\n",
        "\n",
        "'''"
      ],
      "metadata": {
        "id": "MYJu6sm3iTbg"
      },
      "execution_count": null,
      "outputs": []
    },
    {
      "cell_type": "code",
      "source": [
        "# we can not combine str and int type with the help of Concatenation (+) operator\n",
        "# to fix it convert 99 int type to str type"
      ],
      "metadata": {
        "id": "Q2C40862iucX"
      },
      "execution_count": 22,
      "outputs": []
    },
    {
      "cell_type": "code",
      "source": [
        "'I have eaten' +99+ 'burritos'"
      ],
      "metadata": {
        "colab": {
          "base_uri": "https://localhost:8080/",
          "height": 165
        },
        "id": "azMjBjamjzS0",
        "outputId": "964c790c-412b-4381-b0f6-14120d1ff4b2"
      },
      "execution_count": 23,
      "outputs": [
        {
          "output_type": "error",
          "ename": "TypeError",
          "evalue": "ignored",
          "traceback": [
            "\u001b[0;31m---------------------------------------------------------------------------\u001b[0m",
            "\u001b[0;31mTypeError\u001b[0m                                 Traceback (most recent call last)",
            "\u001b[0;32m<ipython-input-23-99766a2d625c>\u001b[0m in \u001b[0;36m<module>\u001b[0;34m()\u001b[0m\n\u001b[0;32m----> 1\u001b[0;31m \u001b[0;34m'I have eaten'\u001b[0m \u001b[0;34m+\u001b[0m\u001b[0;36m99\u001b[0m\u001b[0;34m+\u001b[0m \u001b[0;34m'burritos'\u001b[0m\u001b[0;34m\u001b[0m\u001b[0;34m\u001b[0m\u001b[0m\n\u001b[0m",
            "\u001b[0;31mTypeError\u001b[0m: can only concatenate str (not \"int\") to str"
          ]
        }
      ]
    },
    {
      "cell_type": "code",
      "source": [
        "# to fix it convert 99 int type to str type by using str() function\n",
        "'I have eaten' +str(99)+ 'burritos'"
      ],
      "metadata": {
        "colab": {
          "base_uri": "https://localhost:8080/",
          "height": 36
        },
        "id": "CYk7ZOn-j0cL",
        "outputId": "68a278c7-1462-492d-9b33-5a263830c83e"
      },
      "execution_count": 24,
      "outputs": [
        {
          "output_type": "execute_result",
          "data": {
            "text/plain": [
              "'I have eaten99burritos'"
            ],
            "application/vnd.google.colaboratory.intrinsic+json": {
              "type": "string"
            }
          },
          "metadata": {},
          "execution_count": 24
        }
      ]
    },
    {
      "cell_type": "code",
      "source": [
        ""
      ],
      "metadata": {
        "id": "AmJGgoXlj39p"
      },
      "execution_count": null,
      "outputs": []
    }
  ]
}